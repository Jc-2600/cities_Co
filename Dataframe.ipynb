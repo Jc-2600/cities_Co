{
  "nbformat": 4,
  "nbformat_minor": 0,
  "metadata": {
    "colab": {
      "name": "Untitled1.ipynb",
      "private_outputs": true,
      "provenance": [],
      "authorship_tag": "ABX9TyNIKIp6RxZ1rN9oMzpUEKog",
      "include_colab_link": true
    },
    "kernelspec": {
      "name": "python3",
      "display_name": "Python 3"
    },
    "language_info": {
      "name": "python"
    }
  },
  "cells": [
    {
      "cell_type": "markdown",
      "metadata": {
        "id": "view-in-github",
        "colab_type": "text"
      },
      "source": [
        "<a href=\"https://colab.research.google.com/github/Jc-2600/cities_Co/blob/main/Dataframe.ipynb\" target=\"_parent\"><img src=\"https://colab.research.google.com/assets/colab-badge.svg\" alt=\"Open In Colab\"/></a>"
      ]
    },
    {
      "cell_type": "code",
      "execution_count": null,
      "metadata": {
        "id": "pggq1Zp1feXA"
      },
      "outputs": [],
      "source": [
        "import pandas as pd\n",
        "\n",
        "'''\n",
        "objetivos de clase:\n",
        "\n",
        "1. estudiar dataframes de pandas en python\n",
        "2. Crear dataframes \n",
        "3. seleccionar elementos de dataframe\n",
        "4. Ordenar columnas\n",
        "\n",
        "'''\n",
        "\n",
        "# Creación de dataframes cuando tenemos los datos\n",
        "\n",
        "fbk=['Facebook', 2449, True, 2006]\n",
        "tw=['Twitter', 339, False, 2006]\n",
        "inst= ['Instagram',1002, True, 2006]\n"
      ]
    }
  ]
}