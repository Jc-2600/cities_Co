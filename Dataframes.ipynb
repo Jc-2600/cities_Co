{
  "nbformat": 4,
  "nbformat_minor": 0,
  "metadata": {
    "colab": {
      "name": "Dataframes.ipynb",
      "private_outputs": true,
      "provenance": [],
      "collapsed_sections": [],
      "authorship_tag": "ABX9TyPvx4IZlmtVwjEZ43Jk5lJs",
      "include_colab_link": true
    },
    "kernelspec": {
      "name": "python3",
      "display_name": "Python 3"
    },
    "language_info": {
      "name": "python"
    }
  },
  "cells": [
    {
      "cell_type": "markdown",
      "metadata": {
        "id": "view-in-github",
        "colab_type": "text"
      },
      "source": [
        "<a href=\"https://colab.research.google.com/github/Jc-2600/cities_Co/blob/main/Dataframes.ipynb\" target=\"_parent\"><img src=\"https://colab.research.google.com/assets/colab-badge.svg\" alt=\"Open In Colab\"/></a>"
      ]
    },
    {
      "cell_type": "code",
      "execution_count": null,
      "metadata": {
        "id": "pggq1Zp1feXA"
      },
      "outputs": [],
      "source": [
        "import pandas as pd\n",
        "\n",
        "'''\n",
        "objetivos de clase:\n",
        "\n",
        "1. estudiar dataframes de pandas en python\n",
        "2. Crear dataframes \n",
        "3. seleccionar elementos de dataframe\n",
        "4. Ordenar columnas\n",
        "\n",
        "'''\n",
        "\n",
        "# Creación de dataframes cuando tenemos los datos\n",
        "\n",
        "fbk=['Facebook', 2449, True, 2006]\n",
        "tw=['Twitter', 339, False, 2006]\n",
        "inst= ['Instagram',1002, True, 2010]\n",
        "yt= ['Youtube',2000, False, 2003]\n",
        "link = ['Linkedin', 663, False, 2005]\n",
        "wsp =['WhatsApp', 1600, True, 2009]\n",
        "\n",
        "lista_rrss=[fbk, tw, inst, yt, link, wsp] # Nombre de la varible donde estan las listas\n",
        "\n",
        "# Creamos un dataframe a partir de las lista\n",
        "\n",
        "\n",
        "df_rrss=pd.DataFrame(lista_rrss, columns=['nombre','Cantidad','ES_FBK', 'Año'])\n",
        "\n",
        "df_rrss\n"
      ]
    },
    {
      "cell_type": "code",
      "source": [
        "#Creamos dataframe vacíos y que después iremos rellenando\n",
        "\n",
        "df_vacio = pd.DataFrame(columns=['Nombre', 'Cantidad', 'Es_FBK', 'Ano'])\n",
        "\n",
        "df_vacio\n",
        "\n",
        "#Vamos a agregar un dato a nuestro dataframe\n",
        "\n",
        "df_vacio = df_vacio.append({'Nombre':'Facebook',\n",
        "                            'Cantidad': 2499,\n",
        "                            'ES_FBK' : True, \n",
        "                            'Ano':2006}, ignore_index=True)\n",
        "\n",
        "df_vacio\n"
      ],
      "metadata": {
        "id": "t043wk9rlBoE"
      },
      "execution_count": null,
      "outputs": []
    },
    {
      "cell_type": "code",
      "source": [
        "#Seleccionar un elemento\n",
        "\n",
        "df_rrss.loc[1,'nombre']\n"
      ],
      "metadata": {
        "id": "Zj6vKy6pqEBM"
      },
      "execution_count": null,
      "outputs": []
    },
    {
      "cell_type": "code",
      "source": [
        "#De forma ascendente: de menor a mayor. (Nombre sale orden alfabetico)\n",
        "\n",
        "df_rrss.sort_values('nombre', ascending=True)"
      ],
      "metadata": {
        "id": "zYkqiSDaugz2"
      },
      "execution_count": null,
      "outputs": []
    },
    {
      "cell_type": "code",
      "source": [
        "#De forma ascendente: de menor a mayor. (Nombre sale orden alfabetico)\n",
        "\n",
        "df_rrss.sort_values('Cantidad', ascending=False)"
      ],
      "metadata": {
        "id": "UmQBP6Hbu7GG"
      },
      "execution_count": null,
      "outputs": []
    }
  ]
}